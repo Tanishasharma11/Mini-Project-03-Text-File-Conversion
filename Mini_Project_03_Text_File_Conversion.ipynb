{
  "nbformat": 4,
  "nbformat_minor": 0,
  "metadata": {
    "colab": {
      "provenance": [],
      "authorship_tag": "ABX9TyOpSwCRlSai4VN6YdKUPN4M",
      "include_colab_link": true
    },
    "kernelspec": {
      "name": "python3",
      "display_name": "Python 3"
    },
    "language_info": {
      "name": "python"
    }
  },
  "cells": [
    {
      "cell_type": "markdown",
      "metadata": {
        "id": "view-in-github",
        "colab_type": "text"
      },
      "source": [
        "<a href=\"https://colab.research.google.com/github/Tanishasharma11/Mini-Project-03-Text-File-Conversion/blob/main/Mini_Project_03_Text_File_Conversion.ipynb\" target=\"_parent\"><img src=\"https://colab.research.google.com/assets/colab-badge.svg\" alt=\"Open In Colab\"/></a>"
      ]
    },
    {
      "cell_type": "markdown",
      "source": [
        "Generate C++ files of 200MB, 400 MB, 600 MB, 800 MB, and 1000MB."
      ],
      "metadata": {
        "id": "CT0uhjrnEeRa"
      }
    },
    {
      "cell_type": "code",
      "execution_count": 2,
      "metadata": {
        "id": "DZrgUQw907xr"
      },
      "outputs": [],
      "source": [
        "import random\n",
        "\n",
        "file_size = 200 * 1024 * 1024  # 200MB in bytes\n",
        "output_file = 'cpp_file_200mb.cpp'  # Output file name\n",
        "\n",
        "cpp_keywords = ['int', 'double', 'string', 'if', 'else', 'for', 'while', 'cout', 'cin', 'vector']\n",
        "cpp_operators = ['+', '-', '*', '/', '<<', '>>', '==', '!=', '<', '>', '<=', '>=']\n",
        "\n",
        "with open(output_file, 'w') as file:\n",
        "    while file.tell() < file_size:\n",
        "        keyword = random.choice(cpp_keywords)\n",
        "        operator = random.choice(cpp_operators)\n",
        "        line = f'{keyword} x = 0; {keyword} y = 0; {keyword} result = x {operator} y;\\n'\n",
        "        file.write(line)\n"
      ]
    },
    {
      "cell_type": "code",
      "source": [
        "import random\n",
        "\n",
        "file_size = 400 * 1024 * 1024  # 400MB in bytes\n",
        "output_file = 'cpp_file_400mb.cpp'  # Output file name\n",
        "\n",
        "cpp_keywords = ['int', 'double', 'string', 'if', 'else', 'for', 'while', 'cout', 'cin', 'vector']\n",
        "cpp_operators = ['+', '-', '*', '/', '<<', '>>', '==', '!=', '<', '>', '<=', '>=']\n",
        "\n",
        "with open(output_file, 'w') as file:\n",
        "    while file.tell() < file_size:\n",
        "        keyword = random.choice(cpp_keywords)\n",
        "        operator = random.choice(cpp_operators)\n",
        "        line = f'{keyword} x = 0; {keyword} y = 0; {keyword} result = x {operator} y;\\n'\n",
        "        file.write(line)"
      ],
      "metadata": {
        "id": "4zCkVxpyHOGa"
      },
      "execution_count": null,
      "outputs": []
    },
    {
      "cell_type": "code",
      "source": [
        "import random\n",
        "\n",
        "file_size = 600 * 1024 * 1024  # 600MB in bytes\n",
        "output_file = 'cpp_file_600mb.cpp'  # Output file name\n",
        "\n",
        "cpp_keywords = ['int', 'double', 'string', 'if', 'else', 'for', 'while', 'cout', 'cin', 'vector']\n",
        "cpp_operators = ['+', '-', '*', '/', '<<', '>>', '==', '!=', '<', '>', '<=', '>=']\n",
        "\n",
        "with open(output_file, 'w') as file:\n",
        "    while file.tell() < file_size:\n",
        "        keyword = random.choice(cpp_keywords)\n",
        "        operator = random.choice(cpp_operators)\n",
        "        line = f'{keyword} x = 0; {keyword} y = 0; {keyword} result = x {operator} y;\\n'\n",
        "        file.write(line)"
      ],
      "metadata": {
        "id": "9Sn_azM1HOpo"
      },
      "execution_count": null,
      "outputs": []
    },
    {
      "cell_type": "code",
      "source": [
        "\n",
        "import random\n",
        "\n",
        "file_size = 800 * 1024 * 1024  # 800MB in bytes\n",
        "output_file = 'cpp_file_800mb.cpp'  # Output file name\n",
        "\n",
        "cpp_keywords = ['int', 'double', 'string', 'if', 'else', 'for', 'while', 'cout', 'cin', 'vector']\n",
        "cpp_operators = ['+', '-', '*', '/', '<<', '>>', '==', '!=', '<', '>', '<=', '>=']\n",
        "\n",
        "with open(output_file, 'w') as file:\n",
        "    while file.tell() < file_size:\n",
        "        keyword = random.choice(cpp_keywords)\n",
        "        operator = random.choice(cpp_operators)\n",
        "        line = f'{keyword} x = 0; {keyword} y = 0; {keyword} result = x {operator} y;\\n'\n",
        "        file.write(line)\n"
      ],
      "metadata": {
        "id": "pK9wr1DjHPBD"
      },
      "execution_count": null,
      "outputs": []
    },
    {
      "cell_type": "code",
      "source": [
        "\n",
        "import random\n",
        "\n",
        "file_size = 1000 * 1024 * 1024  # 1000MB in bytes\n",
        "output_file = 'cpp_file_1000mb.cpp'  # Output file name\n",
        "\n",
        "cpp_keywords = ['int', 'double', 'string', 'if', 'else', 'for', 'while', 'cout', 'cin', 'vector']\n",
        "cpp_operators = ['+', '-', '*', '/', '<<', '>>', '==', '!=', '<', '>', '<=', '>=']\n",
        "\n",
        "with open(output_file, 'w') as file:\n",
        "    while file.tell() < file_size:\n",
        "        keyword = random.choice(cpp_keywords)\n",
        "        operator = random.choice(cpp_operators)\n",
        "        line = f'{keyword} x = 0; {keyword} y = 0; {keyword} result = x {operator} y;\\n'\n",
        "        file.write(line)"
      ],
      "metadata": {
        "id": "C2u4v0yLHcoF"
      },
      "execution_count": null,
      "outputs": []
    },
    {
      "cell_type": "markdown",
      "source": [
        "Convert to uppercase"
      ],
      "metadata": {
        "id": "6h6ELORoGPQy"
      }
    },
    {
      "cell_type": "code",
      "source": [
        "input_file = 'cpp_file_200mb.cpp'  # Generated C++ file\n",
        "\n",
        "with open(input_file, 'r') as file:\n",
        "    content = file.read()\n",
        "\n",
        "# Convert content to uppercase\n",
        "content_uppercase = content.upper()\n",
        "\n",
        "# Overwrite the file with the modified content\n",
        "with open(input_file, 'w') as file:\n",
        "    file.write(content_uppercase)\n"
      ],
      "metadata": {
        "id": "PI1FrIMsGSt-"
      },
      "execution_count": 3,
      "outputs": []
    },
    {
      "cell_type": "code",
      "source": [
        "input_file = 'cpp_file_400mb.cpp'  # Generated C++ file\n",
        "\n",
        "with open(input_file, 'r') as file:\n",
        "    content = file.read()\n",
        "\n",
        "# Convert content to uppercase\n",
        "content_uppercase = content.upper()\n",
        "\n",
        "# Overwrite the file with the modified content\n",
        "with open(input_file, 'w') as file:\n",
        "    file.write(content_uppercase)"
      ],
      "metadata": {
        "id": "M8_xx55DG83_"
      },
      "execution_count": null,
      "outputs": []
    },
    {
      "cell_type": "code",
      "source": [
        "\n",
        "input_file = 'cpp_file_600mb.cpp'  # Generated C++ file\n",
        "\n",
        "with open(input_file, 'r') as file:\n",
        "    content = file.read()\n",
        "\n",
        "# Convert content to uppercase\n",
        "content_uppercase = content.upper()\n",
        "\n",
        "# Overwrite the file with the modified content\n",
        "with open(input_file, 'w') as file:\n",
        "    file.write(content_uppercase)\n"
      ],
      "metadata": {
        "id": "IJIefAcsG9Kr"
      },
      "execution_count": null,
      "outputs": []
    },
    {
      "cell_type": "code",
      "source": [
        "input_file = 'cpp_file_800mb.cpp'  # Generated C++ file\n",
        "\n",
        "with open(input_file, 'r') as file:\n",
        "    content = file.read()\n",
        "\n",
        "# Convert content to uppercase\n",
        "content_uppercase = content.upper()\n",
        "\n",
        "# Overwrite the file with the modified content\n",
        "with open(input_file, 'w') as file:\n",
        "    file.write(content_uppercase)"
      ],
      "metadata": {
        "id": "AafDTRMYG9bP"
      },
      "execution_count": null,
      "outputs": []
    },
    {
      "cell_type": "code",
      "source": [
        "input_file = 'cpp_file_1000mb.cpp'  # Generated C++ file\n",
        "\n",
        "with open(input_file, 'r') as file:\n",
        "    content = file.read()\n",
        "\n",
        "# Convert content to uppercase\n",
        "content_uppercase = content.upper()\n",
        "\n",
        "# Overwrite the file with the modified content\n",
        "with open(input_file, 'w') as file:\n",
        "    file.write(content_uppercase)\n"
      ],
      "metadata": {
        "id": "aAe3VZqoG9qP"
      },
      "execution_count": null,
      "outputs": []
    },
    {
      "cell_type": "markdown",
      "source": [
        "To Find Conversion Time"
      ],
      "metadata": {
        "id": "3SCmysovGjlY"
      }
    },
    {
      "cell_type": "code",
      "source": [
        "import time\n",
        "\n",
        "input_file = 'cpp_file_200mb.cpp'  # Generated C++ file\n",
        "\n",
        "# Record the start time\n",
        "start_time = time.time()\n",
        "\n",
        "with open(input_file, 'r') as file:\n",
        "    content = file.read()\n",
        "\n",
        "# Convert content to uppercase\n",
        "content_uppercase = content.upper()\n",
        "\n",
        "# Overwrite the file with the modified content\n",
        "with open(input_file, 'w') as file:\n",
        "    file.write(content_uppercase)\n",
        "\n",
        "# Record the end time\n",
        "end_time = time.time()\n",
        "\n",
        "# Calculate the conversion time\n",
        "conversion_time = end_time - start_time\n",
        "\n",
        "print(f\"Conversion time: {conversion_time} seconds\")\n"
      ],
      "metadata": {
        "colab": {
          "base_uri": "https://localhost:8080/"
        },
        "id": "8phEQ7nEGtRj",
        "outputId": "c6710c2e-5c6e-4793-e9df-a59aff1762bb"
      },
      "execution_count": 4,
      "outputs": [
        {
          "output_type": "stream",
          "name": "stdout",
          "text": [
            "Conversion time: 1.140442132949829 seconds\n"
          ]
        }
      ]
    },
    {
      "cell_type": "code",
      "source": [
        "import time\n",
        "\n",
        "input_file = 'cpp_file_400mb.cpp'  # Generated C++ file\n",
        "\n",
        "# Record the start time\n",
        "start_time = time.time()\n",
        "\n",
        "with open(input_file, 'r') as file:\n",
        "    content = file.read()\n",
        "\n",
        "# Convert content to uppercase\n",
        "content_uppercase = content.upper()\n",
        "\n",
        "# Overwrite the file with the modified content\n",
        "with open(input_file, 'w') as file:\n",
        "    file.write(content_uppercase)\n",
        "\n",
        "# Record the end time\n",
        "end_time = time.time()\n",
        "\n",
        "# Calculate the conversion time\n",
        "conversion_time = end_time - start_time\n",
        "\n",
        "print(f\"Conversion time: {conversion_time} seconds\")\n"
      ],
      "metadata": {
        "id": "W08aBdjLGv-P"
      },
      "execution_count": null,
      "outputs": []
    },
    {
      "cell_type": "code",
      "source": [
        "import time\n",
        "\n",
        "input_file = 'cpp_file_600mb.cpp'  # Generated C++ file\n",
        "\n",
        "# Record the start time\n",
        "start_time = time.time()\n",
        "\n",
        "with open(input_file, 'r') as file:\n",
        "    content = file.read()\n",
        "\n",
        "# Convert content to uppercase\n",
        "content_uppercase = content.upper()\n",
        "\n",
        "# Overwrite the file with the modified content\n",
        "with open(input_file, 'w') as file:\n",
        "    file.write(content_uppercase)\n",
        "\n",
        "# Record the end time\n",
        "end_time = time.time()\n",
        "\n",
        "# Calculate the conversion time\n",
        "conversion_time = end_time - start_time\n",
        "\n",
        "print(f\"Conversion time: {conversion_time} seconds\")\n"
      ],
      "metadata": {
        "id": "UJQkOlpaGwvk"
      },
      "execution_count": null,
      "outputs": []
    },
    {
      "cell_type": "code",
      "source": [
        "import time\n",
        "\n",
        "input_file = 'cpp_file_800mb.cpp'  # Generated C++ file\n",
        "\n",
        "# Record the start time\n",
        "start_time = time.time()\n",
        "\n",
        "with open(input_file, 'r') as file:\n",
        "    content = file.read()\n",
        "\n",
        "# Convert content to uppercase\n",
        "content_uppercase = content.upper()\n",
        "\n",
        "# Overwrite the file with the modified content\n",
        "with open(input_file, 'w') as file:\n",
        "    file.write(content_uppercase)\n",
        "\n",
        "# Record the end time\n",
        "end_time = time.time()\n",
        "\n",
        "# Calculate the conversion time\n",
        "conversion_time = end_time - start_time\n",
        "\n",
        "print(f\"Conversion time: {conversion_time} seconds\")\n"
      ],
      "metadata": {
        "id": "hcKxyWqgGxg_"
      },
      "execution_count": null,
      "outputs": []
    },
    {
      "cell_type": "code",
      "source": [
        "import time\n",
        "\n",
        "input_file = 'cpp_file_1000mb.cpp'  # Generated C++ file\n",
        "\n",
        "# Record the start time\n",
        "start_time = time.time()\n",
        "\n",
        "with open(input_file, 'r') as file:\n",
        "    content = file.read()\n",
        "\n",
        "# Convert content to uppercase\n",
        "content_uppercase = content.upper()\n",
        "\n",
        "# Overwrite the file with the modified content\n",
        "with open(input_file, 'w') as file:\n",
        "    file.write(content_uppercase)\n",
        "\n",
        "# Record the end time\n",
        "end_time = time.time()\n",
        "\n",
        "# Calculate the conversion time\n",
        "conversion_time = end_time - start_time\n",
        "\n",
        "print(f\"Conversion time: {conversion_time} seconds\")\n"
      ],
      "metadata": {
        "id": "U1zdxpkFGyR8"
      },
      "execution_count": null,
      "outputs": []
    },
    {
      "cell_type": "markdown",
      "source": [
        "To generate in tabular form"
      ],
      "metadata": {
        "id": "SAHMw9exG4nx"
      }
    },
    {
      "cell_type": "code",
      "source": [
        "import time\n",
        "import pandas as pd\n",
        "\n",
        "file_sizes = [200, 400, 600, 800, 1000]  # File sizes in MB\n",
        "output_file_prefix = 'cpp_file_'  # Prefix for generated C++ file names\n",
        "\n",
        "# Create an empty list to store the results\n",
        "results = []\n",
        "\n",
        "# Iterate over each file size\n",
        "for size in file_sizes:\n",
        "    file_size = size * 1024 * 1024  # Convert MB to bytes\n",
        "    output_file = output_file_prefix + str(size) + 'mb.cpp'  # Generate C++ file name\n",
        "\n",
        "    # Generate the C++ file with the given size\n",
        "    with open(output_file, 'w') as file:\n",
        "        while file.tell() < file_size:\n",
        "            content = 'A' * 1024  # Generate content (in this case, 'A' repeated)\n",
        "            file.write(content)\n",
        "\n",
        "    # Record the start time\n",
        "    start_time = time.time()\n",
        "\n",
        "    # Convert the content of the file to uppercase\n",
        "    with open(output_file, 'r') as file:\n",
        "        content = file.read()\n",
        "\n",
        "    content_uppercase = content.upper()\n",
        "\n",
        "    with open(output_file, 'w') as file:\n",
        "        file.write(content_uppercase)\n",
        "\n",
        "    # Record the end time\n",
        "    end_time = time.time()\n",
        "\n",
        "    # Calculate the conversion time\n",
        "    conversion_time = end_time - start_time\n",
        "\n",
        "    # Add the result to the list\n",
        "    results.append({'File Size (MB)': size, 'Time Taken (seconds)': conversion_time})\n",
        "\n",
        "# Create a pandas DataFrame from the results list\n",
        "df = pd.DataFrame(results)\n",
        "\n",
        "# Display the DataFrame\n",
        "print(df)\n"
      ],
      "metadata": {
        "colab": {
          "base_uri": "https://localhost:8080/"
        },
        "id": "-2w-jzI9IRBm",
        "outputId": "610da4b8-d3a5-4af1-95be-410e1ce6e1a6"
      },
      "execution_count": 5,
      "outputs": [
        {
          "output_type": "stream",
          "name": "stdout",
          "text": [
            "   File Size (MB)  Time Taken (seconds)\n",
            "0             200              1.883987\n"
          ]
        }
      ]
    },
    {
      "cell_type": "markdown",
      "source": [
        "To generate graph"
      ],
      "metadata": {
        "id": "2LTploLPIqJX"
      }
    },
    {
      "cell_type": "code",
      "source": [
        "import os\n",
        "import time\n",
        "import pandas as pd\n",
        "import matplotlib.pyplot as plt\n",
        "\n",
        "file_sizes = [200, 400, 600, 800, 1000]  # File sizes in MB\n",
        "output_file_prefix = 'cpp_file_'  # Prefix for generated C++ file names\n",
        "\n",
        "# Create an empty list to store the results\n",
        "results = []\n",
        "\n",
        "# Iterate over each file size\n",
        "for size in file_sizes:\n",
        "    file_size = size * 1024 * 1024  # Convert MB to bytes\n",
        "    output_file = output_file_prefix + str(size) + 'mb.cpp'  # Generate C++ file name\n",
        "\n",
        "    # Generate the C++ file with the given size\n",
        "    with open(output_file, 'w') as file:\n",
        "        while file.tell() < file_size:\n",
        "            content = 'A' * 1024  # Generate content (in this case, 'A' repeated)\n",
        "            file.write(content)\n",
        "\n",
        "    # Record the start time\n",
        "    start_time = time.time()\n",
        "\n",
        "    # Convert the content of the file to uppercase\n",
        "    with open(output_file, 'r') as file:\n",
        "        content = file.read()\n",
        "\n",
        "    content_uppercase = content.upper()\n",
        "\n",
        "    with open(output_file, 'w') as file:\n",
        "        file.write(content_uppercase)\n",
        "\n",
        "    # Record the end time\n",
        "    end_time = time.time()\n",
        "\n",
        "    # Calculate the conversion time\n",
        "    conversion_time = end_time - start_time\n",
        "\n",
        "    # Add the result to the list\n",
        "    results.append({'File Size (MB)': size, 'Time Taken (seconds)': conversion_time})\n",
        "\n",
        "# Create a pandas DataFrame from the results list\n",
        "df = pd.DataFrame(results)\n",
        "\n",
        "# Generate the graph\n",
        "plt.plot(df['File Size (MB)'], df['Time Taken (seconds)'], marker='o')\n",
        "plt.xlabel('File Size (MB)')\n",
        "plt.ylabel('Time Taken (seconds)')\n",
        "plt.title('Conversion Time vs. File Size')\n",
        "plt.grid(True)\n",
        "plt.show()\n"
      ],
      "metadata": {
        "colab": {
          "base_uri": "https://localhost:8080/",
          "height": 472
        },
        "id": "UK_eOqpmIsau",
        "outputId": "e48f1d05-33dc-48c5-a061-d1e5ec6a6c45"
      },
      "execution_count": 6,
      "outputs": [
        {
          "output_type": "display_data",
          "data": {
            "text/plain": [
              "<Figure size 640x480 with 1 Axes>"
            ],
            "image/png": "[encoded data removed]"
          },
          "metadata": {}
        }
      ]
    },
    {
      "cell_type": "markdown",
      "source": [
        "Complete code for converting to uppercase for all C, C++, Java, R, and Python programs."
      ],
      "metadata": {
        "id": "c8e3lGErJbmg"
      }
    },
    {
      "cell_type": "code",
      "source": [
        "import time\n",
        "import pandas as pd\n",
        "import matplotlib.pyplot as plt\n",
        "\n",
        "\n",
        "file_sizes = [200, 400, 600, 800, 1000]  # File sizes in MB\n",
        "\n",
        "# Create an empty list to store the results\n",
        "results = []\n",
        "\n",
        "# Iterate over each file size\n",
        "for size in file_sizes:\n",
        "    file_size = size * 1024 * 1024  # Convert MB to bytes\n",
        "    input_file = f'text_file_{size}mb.txt'  # Input text file name\n",
        "\n",
        "    # Record the start time\n",
        "    start_time = time.time()\n",
        "\n",
        "    # Perform the conversion in the respective programming language\n",
        "    #For C\n",
        "    #For C++\n",
        "    #For Java\n",
        "    #For R\n",
        "    #For Python\n",
        "\n",
        "languages = ['C','C++','Java','R','Python']  # programming languages\n",
        "\n",
        "# Create an empty list to store the results\n",
        "resultsoflanguages = []\n",
        "\n",
        "# Iterate over each file size\n",
        "for language in languages:\n",
        "    languages = size * 1024 * 1024  # Convert MB to bytes\n",
        "    input_file = f'text_file_{size}mb.txt'  # Input text file name\n",
        "\n",
        "    # Generate the C++ file with the given size\n",
        "    with open(output_file, 'w') as file:\n",
        "        while file.tell() < file_size:\n",
        "            content = 'A' * 1024  # Generate content (in this case, 'A' repeated)\n",
        "            file.write(content)\n",
        "\n",
        "    # Record the start time\n",
        "    start_time = time.time()\n",
        "\n",
        "    # Convert the content of the file to uppercase\n",
        "    with open(output_file, 'r') as file:\n",
        "        content = file.read()\n",
        "\n",
        "    content_uppercase = content.upper()\n",
        "\n",
        "    with open(output_file, 'w') as file:\n",
        "        file.write(content_uppercase)\n",
        "\n",
        "# Overwrite the file with the modified content\n",
        "with open(input_file, 'w') as file:\n",
        "    file.write(content_uppercase)\n",
        "    \n",
        "\n",
        "    # Record the end time\n",
        "    end_time = time.time()\n",
        "\n",
        "    # Calculate the conversion time\n",
        "    conversion_time = end_time - start_time\n",
        "\n",
        "    # Add the result to the list\n",
        "    results.append({'File Size (MB)': size, 'Conversion Time (seconds)': conversion_time})\n",
        "\n",
        "# Create a pandas DataFrame from the results list\n",
        "df = pd.DataFrame(results)\n",
        "\n",
        "# Display the DataFrame\n",
        "print(df)\n",
        "\n",
        "# Generate the graph\n",
        "plt.plot(df['File Size (MB)'], df['Time Taken (seconds)'], marker='o')\n",
        "plt.xlabel('File Size (MB)')\n",
        "plt.ylabel('Time Taken (seconds)')\n",
        "plt.title('Conversion Time vs. File Size')\n",
        "plt.grid(True)\n",
        "plt.show()\n",
        "\n"
      ],
      "metadata": {
        "id": "cGiyYi7lJrmq"
      },
      "execution_count": null,
      "outputs": []
    }
  ]
}